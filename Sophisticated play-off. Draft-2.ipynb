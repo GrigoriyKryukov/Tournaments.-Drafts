{
 "cells": [
  {
   "cell_type": "markdown",
   "id": "43378d69",
   "metadata": {},
   "source": [
    "## Разбор моделей турниров. Часть 2\n",
    "\n",
    "Подготовил Григорий Крюков"
   ]
  },
  {
   "cell_type": "markdown",
   "id": "347a8683",
   "metadata": {},
   "source": [
    "Рассмотрим две модели учета психологических эффектов в турнирах.\n",
    "\n",
    "В обеих моделях предполагаем, что в матчах возможны лишь два результата: победа и поражение. Для каждого из игроков задана его сила $w_i$ и матрица переходов $A^i$ размера $2 \\times 2$. Матрицы $A^i$ неотрицательные, сумма элементов каждой из двух строк равна единице. Дополнительно предполагаем, что $A_{11}^i > A_{21}^i$. Идея в том, что после победы легче победить еще раз, чем после поражения.\n",
    "\n",
    "$A_{11}^i$ - вероятность победы $i$-го игрока после победы в прошлой игре.\n",
    "\n",
    "$A_{12}^i$ - вероятность поражения $i$-го игрока после победы в прошлой игре.\n",
    "\n",
    "$A_{21}^i$ - вероятность победы $i$-го игрока после поражения в прошлой игре.\n",
    "\n",
    "$A_{22}^i$ - вероятность поражения $i$-го игрока после поражения в прошлой игре.\n",
    "\n",
    "Дополнительно предполагаем, что $A_{11}^i > 0.5$, $A_{22}^i > 0.5$.\n",
    "\n",
    "В каждой из двух моделей с некоторой вероятностью наступает победа \"на классе\". Пусть победа $i$-го игрока над $j$-ым на классе задается функцией $f(w_i, w_j)$, которая принимает значения от $0$ до $1$.\n",
    "\n",
    "В каждой модели дополнительно предполагаем, что у всех игроков эмоциональное состояние идентично состоянию при победе в прошлой игре.\n",
    "\n",
    "#### Первая модель.\n",
    "\n",
    "Вероятность победы $i$-ой команды на морально-волевых качествах: $A_{k1}^i A_{l2}^j$\n",
    "\n",
    "Вероятность победы $i$-ой команды на морально-волевых качествах: $A_{k2}^i A_{l1}^j$\n",
    "\n",
    "Где $k$ - прошлый результат $i$-ой команды, $l$ - прошлый результат $j$-ой команды.\n",
    "\n",
    "С вероятностью $1 - A_{k1}^i A_{l2}^j - A_{k2}^i A_{l1}^j$ результат определяется по классу команд, вероятность задается функцией $f$.\n",
    "\n",
    "Итоговая вероятность победы $i$-ой команды над $j$-ой:\n",
    "\n",
    "$$P_i = A_{k1}^i A_{l2}^j + (1 - A_{k1}^i A_{l2}^j - A_{k2}^i A_{l1}^j) f(w_i, w_j)$$\n",
    "\n",
    "#### Вторая модель.\n",
    "\n",
    "Без ограничения общности положим, что $w_i \\geq w_j$.\n",
    "\n",
    "Тогда считаем, что $i$-ый игрок побеждает на классе с вероятностью $f(w_i, w_j)$. В остальных случаях победа определяется по морально-волевым качествам.\n",
    "\n",
    "Вероятность победы $i$-ой команды на морально-волевых качествах: $(1 - f(w_i, w_j))\\frac{A_{k1}^i A_{l2}^j}{A_{k1}^i A_{l2}^j + A_{k2}^i A_{l1}^j}$\n",
    "\n",
    "Вероятность победы $j$-ой команды на морально-волевых качествах: $(1 - f(w_i, w_j))\\frac{A_{k2}^i A_{l1}^j}{A_{k1}^i A_{l2}^j + A_{k2}^i A_{l1}^j}$\n",
    "\n",
    "Итого вероятность победы $i$-ой команды: \n",
    "\n",
    "$$P_i = f(w_i, w_j) + (1 - f(w_i, w_j))\\frac{A_{k1}^i A_{l2}^j}{A_{k1}^i A_{l2}^j + A_{k2}^i A_{l1}^j}$$\n",
    "\n",
    "Где $w_i \\geq w_j$, $k$ - прошлый результат $i$-ой команды, $l$ - прошлый результат $j$-ой команды."
   ]
  },
  {
   "cell_type": "markdown",
   "id": "24aa08bd",
   "metadata": {},
   "source": [
    "#### Формат турнира\n",
    "\n",
    "В рамках этого ноутбука рассмотрим следующий турнир на четыре команды. Сначала проводится групповой этап (каждый играет с каждым по круговой системе). Затем проводятся полуфиналы, матч за третье место и финал."
   ]
  },
  {
   "cell_type": "markdown",
   "id": "3c39819e",
   "metadata": {},
   "source": [
    "## I. Синтетические эксперименты"
   ]
  },
  {
   "cell_type": "code",
   "execution_count": 1,
   "id": "8123e0d8",
   "metadata": {},
   "outputs": [],
   "source": [
    "import numpy as np\n",
    "import itertools\n",
    "from scipy import stats\n",
    "from scipy.stats import bernoulli\n",
    "from tqdm import tqdm\n",
    "\n",
    "\"\"\" get_array_of_powers() генерирует отсортированный по возрастанию массив из N сил игроков,\n",
    "который генерируется из распределения distrib\"\"\"\n",
    "def get_array_of_powers(N = 4, distrib = stats.uniform, sort = False):\n",
    "    arr = distrib.rvs(size = N)\n",
    "    if sort:\n",
    "        arr.sort()\n",
    "    return arr\n",
    "\n",
    "\"\"\" get_list_of_transformation_matrices() генерирует N матриц перехода,\n",
    "диагональные элементы каждой из которых генерируется из распределения distrib\"\"\"\n",
    "def get_list_of_transformation_matrices(N = 4, distrib = stats.uniform):\n",
    "    output = []\n",
    "    for _ in range(N):\n",
    "        prob = distrib.rvs(size = 2) / 2 # Генерируем вероятность поражения после победы и победы после поражения\n",
    "        arr = np.vstack([[1 - prob[0], prob[0]],\n",
    "                         [prob[1], 1 - prob[1]]]) # Объединяем соответствующие вероятности в матрицу\n",
    "        output.append(arr)\n",
    "    return output\n",
    "\n",
    "\"\"\" start_tournament_FM() проводит турнир в соответствии с первой моделью.\n",
    "powers - массив сил игроков\n",
    "A - список матриц переходов\n",
    "schedule - расписание турнира\n",
    "N - число игроков\n",
    "f - функция из модели\n",
    "Возвращает число очков, которые набрала каждая из команд и их настроение\"\"\"\n",
    "def start_tournament_FM(powers, A, schedule = [[[0, 1], [2, 3]], [[0, 2], [1, 3]], [[0, 3], [1, 2]]],\n",
    "                        N = 4, f = stats.norm.cdf):\n",
    "    points = [0 for _ in range(N)]\n",
    "    moods = [0 for _ in range(N)] # 0 - прошлая победа, 1 - прошлое поражение\n",
    "    for rnd in schedule:\n",
    "        for game in rnd:\n",
    "            j = game[0]\n",
    "            i = game[1]\n",
    "            P = A[i][moods[i]][0] * A[j][moods[j]][1] + (1 - A[i][moods[i]][0] * A[j][moods[j]][1] - A[i][moods[i]][1] * A[j][moods[j]][0]) * f(powers[i] - powers[j])\n",
    "            win_i = bernoulli(P).rvs()\n",
    "            points[i] += win_i\n",
    "            points[j] += 1 - win_i\n",
    "            moods[i] = 1 - win_i\n",
    "            moods[j] = win_i\n",
    "    return points, moods\n",
    "\n",
    "\"\"\" start_tournament_SM() проводит турнир в соответствии со второй моделью.\n",
    "powers - массив сил игроков\n",
    "A - список матриц переходов\n",
    "schedule - расписание турнира\n",
    "N - число игроков\n",
    "f - функция из модели\n",
    "Возвращает число очков, которые набрала каждая из команд и их настроение\"\"\"\n",
    "def start_tournament_SM(powers, A, schedule = [[[0, 1], [2, 3]], [[0, 2], [1, 3]], [[0, 3], [1, 2]]],\n",
    "                        N = 4, f = stats.norm.cdf):\n",
    "    points = [0 for _ in range(N)]\n",
    "    moods = [0 for _ in range(N)] # 0 - прошлая победа, 1 - прошлое поражение\n",
    "    for rnd in schedule:\n",
    "        for game in rnd:\n",
    "            j = game[0]\n",
    "            i = game[1]\n",
    "            P = f(powers[i] - powers[j]) + (1 - f(powers[i] - powers[j])) * A[i][moods[i]][0] * A[j][moods[j]][1] / (A[i][moods[i]][0] * A[j][moods[j]][1] + A[i][moods[i]][1] * A[j][moods[j]][0])\n",
    "            win_i = bernoulli(P).rvs()\n",
    "            points[i] += win_i\n",
    "            points[j] += 1 - win_i\n",
    "            moods[i] = 1 - win_i\n",
    "            moods[j] = win_i\n",
    "    return points, moods\n",
    "\n",
    "\"\"\" tournament_table_before_PO() выводит турнирную таблицу группового этапа.\n",
    "На вход принимает силы игроков, число их побед и бинарную переменную - одержала ли команда победу в последнем туре.\n",
    "На выходе турнирная таблица, команды отсортированы по убыванию количества очков\n",
    "Первый столбец - рейтинг реальной силы команды (0 - слабейшая, 3 - сильнейшая).\n",
    "Второй столбец - число набранных очков.\n",
    "Третий столбец - проиграла ли команда последнюю игру к данному моменту\"\"\"\n",
    "def tournament_table_before_PO(powers, points, moods):\n",
    "    array = np.vstack((powers.argsort().argsort(), points, moods)).T\n",
    "    return array[np.argsort(array[:, 1])][::-1]\n",
    "\n",
    "\"\"\" start_standand_PO_SM() проводит турнир в соответствии со второй моделью.\n",
    "powers - массив сил игроков\n",
    "A - список матриц переходов\n",
    "schedule - расписание турнира\n",
    "N - число игроков\n",
    "f - функция из модели\n",
    "Возвращает рейтинг команд по реальным силам и по занятым местам\"\"\"\n",
    "def start_standand_PO_SM(powers, A, table, num_opponent_of_the_strongest_player = 3, N = 4, f = stats.norm.cdf):\n",
    "    is_final = [0 for _ in range(N)]\n",
    "    payoff = [0 for _ in range(N)]\n",
    "    moods = table[:,2]\n",
    "    games = [[0, num_opponent_of_the_strongest_player]]\n",
    "    games.append(list(set(np.arange(1, 4)).difference(set([num_opponent_of_the_strongest_player]))))\n",
    "    for game in games:\n",
    "        j = game[0]\n",
    "        i = game[1]\n",
    "        P = f(powers[i] - powers[j]) + (1 - f(powers[i] - powers[j])) * A[i][moods[i]][0] * A[j][moods[j]][1] / (A[i][moods[i]][0] * A[j][moods[j]][1] + A[i][moods[i]][1] * A[j][moods[j]][0])\n",
    "        win_i = bernoulli(P).rvs()\n",
    "        is_final[i] = win_i\n",
    "        is_final[j] = 1 - win_i\n",
    "        moods[i] = 1 - win_i\n",
    "        moods[j] = win_i\n",
    "    # Матч за 3 место\n",
    "    game = [i for i in range(4) if is_final[i] == 0]\n",
    "    j = game[0]\n",
    "    i = game[1]\n",
    "    P = f(powers[i] - powers[j]) + (1 - f(powers[i] - powers[j])) * A[i][moods[i]][0] * A[j][moods[j]][1] / (A[i][moods[i]][0] * A[j][moods[j]][1] + A[i][moods[i]][1] * A[j][moods[j]][0])\n",
    "    win_i = bernoulli(P).rvs()\n",
    "    payoff[i] = 3 - win_i\n",
    "    payoff[j] = 2 + win_i\n",
    "    # Матч за 1 место\n",
    "    game = [i for i in range(4) if is_final[i] == 1]\n",
    "    j = game[0]\n",
    "    i = game[1]\n",
    "    P = f(powers[i] - powers[j]) + (1 - f(powers[i] - powers[j])) * A[i][moods[i]][0] * A[j][moods[j]][1] / (A[i][moods[i]][0] * A[j][moods[j]][1] + A[i][moods[i]][1] * A[j][moods[j]][0])\n",
    "    win_i = bernoulli(P).rvs()\n",
    "    payoff[i] = 1 - win_i\n",
    "    payoff[j] = win_i\n",
    "    return list(table[:,0]), payoff"
   ]
  },
  {
   "cell_type": "code",
   "execution_count": 2,
   "id": "9581990e",
   "metadata": {},
   "outputs": [
    {
     "data": {
      "text/plain": [
       "([3, 1, 2, 0], [1, 2, 0, 3])"
      ]
     },
     "execution_count": 2,
     "metadata": {},
     "output_type": "execute_result"
    }
   ],
   "source": [
    "powers = get_array_of_powers()\n",
    "A = get_list_of_transformation_matrices()\n",
    "points, moods = start_tournament_SM(powers, A)\n",
    "table = tournament_table_before_PO(powers, points, moods)\n",
    "start_standand_PO_SM(powers, A, table, num_opponent_of_the_strongest_player = 3)"
   ]
  },
  {
   "cell_type": "markdown",
   "id": "94dcbf36",
   "metadata": {},
   "source": [
    "Теперь проведем эксперименты.\n",
    "\n",
    "Вычислим среднюю вероятность того, что сильнейший игрок окажется на первом месте (первый вектор). \n",
    "\n",
    "Дополнительно вычислим корреляцию между ранжированием по реальным силам команд и ранжированием по итогам турнира (второй вектор).\n",
    "\n",
    "Первый элемент вектора: полуфиналы 1 место - 2 место, 3 место - 4 место (место по итогом группового этапа).\n",
    "\n",
    "Второй элемент вектора: полуфиналы 1 место - 3 место, 2 место - 4 место (место по итогом группового этапа).\n",
    "\n",
    "Третий элемент вектора: полуфиналы 1 место - 4 место, 2 место - 3 место (место по итогом группового этапа)."
   ]
  },
  {
   "cell_type": "code",
   "execution_count": 3,
   "id": "ae716a99",
   "metadata": {},
   "outputs": [
    {
     "name": "stderr",
     "output_type": "stream",
     "text": [
      "100%|██████████| 10000/10000 [02:43<00:00, 60.98it/s]"
     ]
    },
    {
     "name": "stdout",
     "output_type": "stream",
     "text": [
      "[0.2804 0.2909 0.304  0.315 ]\n",
      "[0.054      0.0841     0.1313     0.16169025]\n"
     ]
    },
    {
     "name": "stderr",
     "output_type": "stream",
     "text": [
      "\n"
     ]
    }
   ],
   "source": [
    "np.random.seed(42) # Фиксируем seed для воспроизводимости\n",
    "\n",
    "iters = 10000\n",
    "N = 4\n",
    "best_is_winner = np.zeros(N)\n",
    "corrcoef = np.zeros(N)\n",
    "\n",
    "for _ in tqdm(range(iters)):\n",
    "    powers = get_array_of_powers()\n",
    "    A = get_list_of_transformation_matrices()\n",
    "    points, moods = start_tournament_SM(powers, A)\n",
    "    table = tournament_table_before_PO(powers, points, moods)\n",
    "    rank = list(table[:,0])\n",
    "    payoff = list(table[:,1])\n",
    "    if table[0][0] == 3:\n",
    "        best_is_winner[3] += 1\n",
    "    corrcoef[3] += np.corrcoef(rank, payoff)[0][1]\n",
    "    for i in range(3):\n",
    "        rank, payoff = start_standand_PO_SM(powers, A, table, num_opponent_of_the_strongest_player = i + 1)\n",
    "        if [j for j in range(4) if rank[j] == 3] == [j for j in range(4) if payoff[j] == 3]:\n",
    "            best_is_winner[i] += 1\n",
    "        corrcoef[i] += np.corrcoef(rank, payoff)[0][1]\n",
    "\n",
    "print(best_is_winner / iters)\n",
    "print(corrcoef / iters)"
   ]
  },
  {
   "cell_type": "code",
   "execution_count": 4,
   "id": "d67fec2a",
   "metadata": {},
   "outputs": [
    {
     "name": "stderr",
     "output_type": "stream",
     "text": [
      "100%|██████████| 10000/10000 [02:38<00:00, 63.06it/s]"
     ]
    },
    {
     "name": "stdout",
     "output_type": "stream",
     "text": [
      "[0.3318 0.3364 0.3725 0.4214]\n",
      "[0.1288     0.16396    0.25238    0.36220566]\n"
     ]
    },
    {
     "name": "stderr",
     "output_type": "stream",
     "text": [
      "\n"
     ]
    }
   ],
   "source": [
    "# Теперь рассмотрим нормальное распределение для сил игроков\n",
    "\n",
    "np.random.seed(42) # Фиксируем seed для воспроизводимости\n",
    "\n",
    "iters = 10000\n",
    "N = 4\n",
    "best_is_winner = np.zeros(N)\n",
    "corrcoef = np.zeros(N)\n",
    "\n",
    "for _ in tqdm(range(iters)):\n",
    "    powers = get_array_of_powers(distrib = stats.norm)\n",
    "    A = get_list_of_transformation_matrices()\n",
    "    points, moods = start_tournament_SM(powers, A)\n",
    "    table = tournament_table_before_PO(powers, points, moods)\n",
    "    rank = list(table[:,0])\n",
    "    payoff = list(table[:,1])\n",
    "    if table[0][0] == 3:\n",
    "        best_is_winner[3] += 1\n",
    "    corrcoef[3] += np.corrcoef(rank, payoff)[0][1]\n",
    "    for i in range(3):\n",
    "        rank, payoff = start_standand_PO_SM(powers, A, table, num_opponent_of_the_strongest_player = i + 1)\n",
    "        if [j for j in range(4) if rank[j] == 3] == [j for j in range(4) if payoff[j] == 3]:\n",
    "            best_is_winner[i] += 1\n",
    "        corrcoef[i] += np.corrcoef(rank, payoff)[0][1]\n",
    "\n",
    "print(best_is_winner / iters)\n",
    "print(corrcoef / iters)"
   ]
  },
  {
   "cell_type": "markdown",
   "id": "63ee527c",
   "metadata": {},
   "source": [
    "Теперь рассмотрим граничные случаи: когда победитель прошлой игры почти всегда выигрывает на морально-волевых качествах после победы и когда при игре на морально-волевых каждый может победить равновероятно."
   ]
  },
  {
   "cell_type": "code",
   "execution_count": 5,
   "id": "9d1dd6a4",
   "metadata": {},
   "outputs": [
    {
     "name": "stderr",
     "output_type": "stream",
     "text": [
      "100%|██████████| 10000/10000 [02:38<00:00, 63.16it/s]"
     ]
    },
    {
     "name": "stdout",
     "output_type": "stream",
     "text": [
      "[0.3227 0.3322 0.3775 0.4136]\n",
      "[0.11908    0.15194    0.2782     0.35860217]\n"
     ]
    },
    {
     "name": "stderr",
     "output_type": "stream",
     "text": [
      "\n"
     ]
    }
   ],
   "source": [
    "# Теперь рассмотрим граничный случай\n",
    "\n",
    "np.random.seed(42) # Фиксируем seed для воспроизводимости\n",
    "\n",
    "iters = 10000\n",
    "N = 4\n",
    "best_is_winner = np.zeros(N)\n",
    "corrcoef = np.zeros(N)\n",
    "\n",
    "for _ in tqdm(range(iters)):\n",
    "    powers = get_array_of_powers(distrib = stats.norm)\n",
    "    A = [np.array([[0.999, 0.001], [0.001, 0.999]]) for _ in range(4)]\n",
    "    points, moods = start_tournament_SM(powers, A)\n",
    "    table = tournament_table_before_PO(powers, points, moods)\n",
    "    rank = list(table[:,0])\n",
    "    payoff = list(table[:,1])\n",
    "    if table[0][0] == 3:\n",
    "        best_is_winner[3] += 1\n",
    "    corrcoef[3] += np.corrcoef(rank, payoff)[0][1]\n",
    "    for i in range(3):\n",
    "        rank, payoff = start_standand_PO_SM(powers, A, table, num_opponent_of_the_strongest_player = i + 1)\n",
    "        if [j for j in range(4) if rank[j] == 3] == [j for j in range(4) if payoff[j] == 3]:\n",
    "            best_is_winner[i] += 1\n",
    "        corrcoef[i] += np.corrcoef(rank, payoff)[0][1]\n",
    "\n",
    "print(best_is_winner / iters)\n",
    "print(corrcoef / iters)"
   ]
  },
  {
   "cell_type": "code",
   "execution_count": 6,
   "id": "88ebe65f",
   "metadata": {},
   "outputs": [
    {
     "name": "stderr",
     "output_type": "stream",
     "text": [
      "100%|██████████| 10000/10000 [02:42<00:00, 61.60it/s]"
     ]
    },
    {
     "name": "stdout",
     "output_type": "stream",
     "text": [
      "[0.323  0.3338 0.3574 0.3913]\n",
      "[0.11404    0.179      0.25084    0.37303865]\n"
     ]
    },
    {
     "name": "stderr",
     "output_type": "stream",
     "text": [
      "\n"
     ]
    }
   ],
   "source": [
    "# Теперь рассмотрим граничный случай\n",
    "\n",
    "np.random.seed(42) # Фиксируем seed для воспроизводимости\n",
    "\n",
    "iters = 10000\n",
    "N = 4\n",
    "best_is_winner = np.zeros(N)\n",
    "corrcoef = np.zeros(N)\n",
    "\n",
    "for _ in tqdm(range(iters)):\n",
    "    powers = get_array_of_powers(distrib = stats.norm)\n",
    "    A = [np.ones((2,2))/2 for _ in range(4)]\n",
    "    points, moods = start_tournament_SM(powers, A)\n",
    "    table = tournament_table_before_PO(powers, points, moods)\n",
    "    rank = list(table[:,0])\n",
    "    payoff = list(table[:,1])\n",
    "    if table[0][0] == 3:\n",
    "        best_is_winner[3] += 1\n",
    "    corrcoef[3] += np.corrcoef(rank, payoff)[0][1]\n",
    "    for i in range(3):\n",
    "        rank, payoff = start_standand_PO_SM(powers, A, table, num_opponent_of_the_strongest_player = i + 1)\n",
    "        if [j for j in range(4) if rank[j] == 3] == [j for j in range(4) if payoff[j] == 3]:\n",
    "            best_is_winner[i] += 1\n",
    "        corrcoef[i] += np.corrcoef(rank, payoff)[0][1]\n",
    "\n",
    "print(best_is_winner / iters)\n",
    "print(corrcoef / iters)"
   ]
  },
  {
   "cell_type": "markdown",
   "id": "64f4d3e8",
   "metadata": {},
   "source": [
    "### Выводы\n",
    "\n",
    "Если сразу проводить турнир на выбывание, то, очевидно, психологические эффекты не повлияют на итоговые места: победители всегда будут играть с победителями.\n",
    "\n",
    "Однако, когда мы рассматриваем групповой этап перед плей-офф, то психологические эффекты уже оказывают ощутимое действие. Дело в том, что команда может подходить к плей-офф как с победой в последнем туре, так и с поражением. \n",
    "\n",
    "Заметим, что в турнирах с плей-офф результаты получаются более непредсказуемыми, чем при обычном турнире по круговой системе: сильнейшие выиграют турнир с меньшей вероятностью. При этом самые непредсказуемые турниры получаются, когда два сильнейших по итогам группового этапа играют в полуфинале, а самые объективные - когда в полуфинале первое место играет с последним.\n",
    "\n",
    "Такие турниры потенциально интересны для дальнейшего анализа с большим числом групп. Такой формат (групповой этап + плей-офф) будет соответствовать схемам крупнейших мировых турниров (Чемпионат мира по футболу, Лига Чемпионов УЕФА, в чуть более сложном формате НБА, НХЛ). "
   ]
  }
 ],
 "metadata": {
  "kernelspec": {
   "display_name": "Python 3",
   "language": "python",
   "name": "python3"
  },
  "language_info": {
   "codemirror_mode": {
    "name": "ipython",
    "version": 3
   },
   "file_extension": ".py",
   "mimetype": "text/x-python",
   "name": "python",
   "nbconvert_exporter": "python",
   "pygments_lexer": "ipython3",
   "version": "3.8.8"
  }
 },
 "nbformat": 4,
 "nbformat_minor": 5
}
