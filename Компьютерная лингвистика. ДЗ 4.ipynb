{
 "cells": [
  {
   "cell_type": "code",
   "execution_count": 1,
   "metadata": {},
   "outputs": [],
   "source": [
    "import numpy as np\n",
    "import pandas as pd"
   ]
  },
  {
   "cell_type": "code",
   "execution_count": 4,
   "metadata": {},
   "outputs": [],
   "source": [
    "from gensim.test.utils import common_texts\n",
    "from gensim.models import Word2Vec\n",
    "import gensim.downloader"
   ]
  },
  {
   "cell_type": "code",
   "execution_count": 29,
   "metadata": {},
   "outputs": [],
   "source": [
    "model = gensim.downloader.load('word2vec-ruscorpora-300')"
   ]
  },
  {
   "cell_type": "code",
   "execution_count": 30,
   "metadata": {},
   "outputs": [
    {
     "data": {
      "text/plain": [
       "[('кошка_NOUN', 0.7570087909698486),\n",
       " ('котенок_NOUN', 0.6676192879676819),\n",
       " ('пес_NOUN', 0.5633267164230347),\n",
       " ('мяукать_VERB', 0.561974287033081),\n",
       " ('тобик_NOUN', 0.5586473941802979),\n",
       " ('фоксик_NOUN', 0.5572988986968994),\n",
       " ('собака_NOUN', 0.5567899346351624),\n",
       " ('мяучать_VERB', 0.5535755753517151),\n",
       " ('харлашка_NOUN', 0.551755428314209),\n",
       " ('котяра_NOUN', 0.5508567690849304)]"
      ]
     },
     "execution_count": 30,
     "metadata": {},
     "output_type": "execute_result"
    }
   ],
   "source": [
    "model.most_similar('кот_NOUN')"
   ]
  },
  {
   "cell_type": "code",
   "execution_count": 33,
   "metadata": {},
   "outputs": [
    {
     "name": "stdout",
     "output_type": "stream",
     "text": [
      "0.33022285\n"
     ]
    }
   ],
   "source": [
    "# Косинусное расстояние\n",
    "print(model.similarity('человек_NOUN', 'обезьяна_NOUN'))"
   ]
  },
  {
   "cell_type": "code",
   "execution_count": 37,
   "metadata": {},
   "outputs": [
    {
     "name": "stdout",
     "output_type": "stream",
     "text": [
      "пельмень_NOUN\n"
     ]
    }
   ],
   "source": [
    "# Потрясающая арифметика\n",
    "print(model.most_similar(positive=['пицца_NOUN', 'россия_NOUN'], negative=['италия_NOUN'])[0][0])"
   ]
  },
  {
   "cell_type": "code",
   "execution_count": 38,
   "metadata": {},
   "outputs": [
    {
     "data": {
      "text/plain": [
       "[('подумать_VERB', 0.7572886943817139),\n",
       " ('размышлять_VERB', 0.6760968565940857),\n",
       " ('неужели_PART', 0.6635090112686157),\n",
       " ('наверное_ADV', 0.6506292223930359),\n",
       " ('думаться_VERB', 0.6430315375328064),\n",
       " ('никола::левонтиевич_NOUN', 0.6179891228675842),\n",
       " ('понимать_VERB', 0.6048193573951721),\n",
       " ('рассуждать_VERB', 0.5976308584213257),\n",
       " ('раздумывать_VERB', 0.5962369441986084),\n",
       " ('соображать_VERB', 0.5961658954620361)]"
      ]
     },
     "execution_count": 38,
     "metadata": {},
     "output_type": "execute_result"
    }
   ],
   "source": [
    "model.most_similar('думать_VERB')"
   ]
  },
  {
   "cell_type": "code",
   "execution_count": 39,
   "metadata": {},
   "outputs": [
    {
     "data": {
      "text/plain": [
       "[('ма_NOUN', 0.49966272711753845),\n",
       " ('ноготок::вострый_NOUN', 0.47258254885673523),\n",
       " ('масенький_ADJ', 0.46461471915245056),\n",
       " ('копилочка_NOUN', 0.45818448066711426),\n",
       " ('малюсенький_ADJ', 0.4565121531486511),\n",
       " ('крошечный_ADJ', 0.4480636715888977),\n",
       " ('лягушечка_NOUN', 0.4456605911254883),\n",
       " ('оченька_NOUN', 0.4435420036315918),\n",
       " ('крохотный_ADJ', 0.44086953997612),\n",
       " ('выстрачивать_VERB', 0.43657591938972473)]"
      ]
     },
     "execution_count": 39,
     "metadata": {},
     "output_type": "execute_result"
    }
   ],
   "source": [
    "model.most_similar('аленький_ADJ')"
   ]
  },
  {
   "cell_type": "code",
   "execution_count": 40,
   "metadata": {},
   "outputs": [
    {
     "data": {
      "text/plain": [
       "[('красиво_ADV', 0.6824069023132324),\n",
       " ('некрасивый_ADJ', 0.6662992238998413),\n",
       " ('нарядный_ADJ', 0.6605890989303589),\n",
       " ('прекрасный_ADJ', 0.6481409072875977),\n",
       " ('элегантный_ADJ', 0.6363735198974609),\n",
       " ('красавец_NOUN', 0.6171321272850037),\n",
       " ('очаровательный_ADJ', 0.6072524189949036),\n",
       " ('прелестный_ADJ', 0.606392502784729),\n",
       " ('хорошенький_ADJ', 0.6016285419464111),\n",
       " ('изящный_ADJ', 0.6009820699691772)]"
      ]
     },
     "execution_count": 40,
     "metadata": {},
     "output_type": "execute_result"
    }
   ],
   "source": [
    "model.most_similar('красивый_ADJ')"
   ]
  },
  {
   "cell_type": "code",
   "execution_count": 42,
   "metadata": {},
   "outputs": [
    {
     "data": {
      "text/plain": [
       "0.6072525"
      ]
     },
     "execution_count": 42,
     "metadata": {},
     "output_type": "execute_result"
    }
   ],
   "source": [
    "model.similarity('красивый_ADJ', 'очаровательный_ADJ')"
   ]
  },
  {
   "cell_type": "code",
   "execution_count": 43,
   "metadata": {},
   "outputs": [
    {
     "data": {
      "text/plain": [
       "0.23340988"
      ]
     },
     "execution_count": 43,
     "metadata": {},
     "output_type": "execute_result"
    }
   ],
   "source": [
    "model.similarity('красивый_ADJ', 'ужасный_ADJ')"
   ]
  },
  {
   "cell_type": "code",
   "execution_count": 44,
   "metadata": {},
   "outputs": [
    {
     "data": {
      "text/plain": [
       "0.2194053"
      ]
     },
     "execution_count": 44,
     "metadata": {},
     "output_type": "execute_result"
    }
   ],
   "source": [
    "model.similarity('красивый_ADJ', 'страшный_ADJ')"
   ]
  },
  {
   "cell_type": "code",
   "execution_count": 45,
   "metadata": {},
   "outputs": [
    {
     "data": {
      "text/plain": [
       "0.13836463"
      ]
     },
     "execution_count": 45,
     "metadata": {},
     "output_type": "execute_result"
    }
   ],
   "source": [
    "model.similarity('красивый_ADJ', 'горный_ADJ')"
   ]
  },
  {
   "cell_type": "code",
   "execution_count": null,
   "metadata": {},
   "outputs": [],
   "source": []
  }
 ],
 "metadata": {
  "kernelspec": {
   "display_name": "Python 3",
   "language": "python",
   "name": "python3"
  },
  "language_info": {
   "codemirror_mode": {
    "name": "ipython",
    "version": 3
   },
   "file_extension": ".py",
   "mimetype": "text/x-python",
   "name": "python",
   "nbconvert_exporter": "python",
   "pygments_lexer": "ipython3",
   "version": "3.8.3"
  }
 },
 "nbformat": 4,
 "nbformat_minor": 4
}
