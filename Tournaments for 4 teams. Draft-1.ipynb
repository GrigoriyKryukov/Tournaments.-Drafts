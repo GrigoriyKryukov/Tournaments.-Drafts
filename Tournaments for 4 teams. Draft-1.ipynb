{
 "cells": [
  {
   "cell_type": "markdown",
   "id": "2c00bcd4",
   "metadata": {},
   "source": [
    "## Разбор моделей турниров \n",
    "\n",
    "Подготовил Григорий Крюков"
   ]
  },
  {
   "cell_type": "markdown",
   "id": "1446902a",
   "metadata": {},
   "source": [
    "Рассмотрим две модели учета психологических эффектов в турнирах.\n",
    "\n",
    "В обеих моделях предполагаем, что турнир проходит по круговой системе, в матчах возможны лишь два результата: победа и поражение. Для каждого из игроков задана его сила $w_i$ и матрица переходов $A^i$ размера $2 \\times 2$. Матрицы $A^i$ неотрицательные, сумма элементов каждой из двух строк равна единице. Дополнительно предполагаем, что $A_{11}^i > A_{21}^i$. Идея в том, что после победы легче победить еще раз, чем после поражения.\n",
    "\n",
    "$A_{11}^i$ - вероятность победы $i$-го игрока после победы в прошлой игре.\n",
    "\n",
    "$A_{12}^i$ - вероятность поражения $i$-го игрока после победы в прошлой игре.\n",
    "\n",
    "$A_{21}^i$ - вероятность победы $i$-го игрока после поражения в прошлой игре.\n",
    "\n",
    "$A_{22}^i$ - вероятность поражения $i$-го игрока после поражения в прошлой игре.\n",
    "\n",
    "В каждой из двух моделей с некоторой вероятностью наступает победа \"на классе\". Пусть победа $i$-го игрока над $j$-ым на классе задается функцией $f(w_i, w_j)$, которая принимает значения от $0$ до $1$.\n",
    "\n",
    "В каждой модели дополнительно предполагаем, что у всех игроков эмоциональное состояние идентично состоянию при победе в прошлой игре.\n",
    "\n",
    "#### Первая модель.\n",
    "\n",
    "Вероятность победы $i$-ой команды на морально-волевых качествах: $A_{k1}^i A_{l2}^j$\n",
    "\n",
    "Вероятность победы $i$-ой команды на морально-волевых качествах: $A_{k2}^i A_{l1}^j$\n",
    "\n",
    "Где $k$ - прошлый результат $i$-ой команды, $l$ - прошлый результат $j$-ой команды.\n",
    "\n",
    "С вероятностью $1 - A_{k1}^i A_{l2}^j - A_{k2}^i A_{l1}^j$ результат определяется по классу команд, вероятность задается функцией $f$.\n",
    "\n",
    "Итоговая вероятность победы $i$-ой команды над $j$-ой:\n",
    "\n",
    "$$P_i = A_{k1}^i A_{l2}^j + (1 - A_{k1}^i A_{l2}^j - A_{k2}^i A_{l1}^j) f(w_i, w_j)$$\n",
    "\n",
    "#### Вторая модель.\n",
    "\n",
    "Без ограничения общности положим, что $w_i \\geq w_j$.\n",
    "\n",
    "Тогда считаем, что $i$-ый игрок побеждает на классе с вероятностью $f(w_i, w_j)$. В остальных случаях победа определяется по морально-волевым качествам.\n",
    "\n",
    "Вероятность победы $i$-ой команды на морально-волевых качествах: $(1 - f(w_i, w_j))\\frac{A_{k1}^i A_{l2}^j}{A_{k1}^i A_{l2}^j + A_{k2}^i A_{l1}^j}$\n",
    "\n",
    "Вероятность победы $j$-ой команды на морально-волевых качествах: $(1 - f(w_i, w_j))\\frac{A_{k2}^i A_{l1}^j}{A_{k1}^i A_{l2}^j + A_{k2}^i A_{l1}^j}$\n",
    "\n",
    "Итого вероятность победы $i$-ой команды: \n",
    "\n",
    "$$P_i = f(w_i, w_j) + (1 - f(w_i, w_j))\\frac{A_{k1}^i A_{l2}^j}{A_{k1}^i A_{l2}^j + A_{k2}^i A_{l1}^j}$$\n",
    "\n",
    "Где $w_i \\geq w_j$, $k$ - прошлый результат $i$-ой команды, $l$ - прошлый результат $j$-ой команды."
   ]
  },
  {
   "cell_type": "markdown",
   "id": "d1a4faa7",
   "metadata": {},
   "source": [
    "## I. Синтетические эксперименты"
   ]
  },
  {
   "cell_type": "code",
   "execution_count": 17,
   "id": "3e4364ce",
   "metadata": {},
   "outputs": [],
   "source": [
    "import numpy as np\n",
    "import itertools\n",
    "from scipy import stats\n",
    "from scipy.stats import bernoulli\n",
    "from tqdm import tqdm\n",
    "\n",
    "\"\"\" get_array_of_powers() генерирует отсортированный по возрастанию массив из N сил игроков,\n",
    "который генерируется из распределения distrib\"\"\"\n",
    "def get_array_of_powers(N = 4, distrib = stats.uniform):\n",
    "    arr = distrib.rvs(size = N)\n",
    "    arr.sort()\n",
    "    return arr\n",
    "\n",
    "\"\"\" get_list_of_transformation_matrices() генерирует N матриц перехода,\n",
    "первый столбец каждой из которых генерируется из распределения distrib\"\"\"\n",
    "def get_list_of_transformation_matrices(N = 4, distrib = stats.uniform, sort = True):\n",
    "    output = []\n",
    "    for _ in range(N):\n",
    "        prob = distrib.rvs(size = 2)\n",
    "        if sort:\n",
    "            prob[::-1].sort() # Сортировка по убыванию: вероятность победы выше, если прошлый результат был победой\n",
    "        arr = np.vstack((prob, 1 - prob)).T # Объединяем столбцы матрицы переходов\n",
    "        output.append(arr)\n",
    "    return output\n",
    "\n",
    "\"\"\" generate_all_schedules_4_teams() генерирует все возможные расписания для турнира на 4 команды.\n",
    "Метод основан на том, что соперник первой команды однозначно определяет все пары на тур.\n",
    "Соответственно, есть 3! возможных расписаний\"\"\"\n",
    "def generate_all_schedules_4_teams():\n",
    "    N = 4\n",
    "    output = []\n",
    "    teams = [i for i in range(N)]\n",
    "    for perm in itertools.permutations(teams[1:], 3):\n",
    "        schedule = []\n",
    "        for i in perm:\n",
    "            round_ = []\n",
    "            round_.append([0, i])\n",
    "            round_.append(list(set(teams[1:]).difference(set([i]))))\n",
    "            schedule.append(round_)\n",
    "        output.append(schedule)\n",
    "    return output\n",
    "\n",
    "\"\"\" start_tournament_FM() проводит турнир в соответствии с первой моделью.\n",
    "powers - массив сил игроков\n",
    "A - список матриц переходов\n",
    "schedule - расписание турнира\n",
    "N - число игроков\n",
    "f - функция из модели\n",
    "Возвращает число очков, которые набрала каждая из команд\"\"\"\n",
    "def start_tournament_FM(powers, A, schedule, N = 4, f = stats.norm.cdf):\n",
    "    points = [0 for _ in range(N)]\n",
    "    moods = [0 for _ in range(N)] # 0 - прошлая победа, 1 - прошлое поражение\n",
    "    for rnd in schedule:\n",
    "        for game in rnd:\n",
    "            j = game[0]\n",
    "            i = game[1]\n",
    "            P = A[i][moods[i]][0] * A[j][moods[j]][1] + (1 - A[i][moods[i]][0] * A[j][moods[j]][1] - A[i][moods[i]][1] * A[j][moods[j]][0]) * f(powers[i] - powers[j])\n",
    "            win_i = bernoulli(P).rvs()\n",
    "            points[i] += win_i\n",
    "            points[j] += 1 - win_i\n",
    "            moods[i] = 1 - win_i\n",
    "            moods[j] = win_i\n",
    "    return points\n",
    "\n",
    "\"\"\" start_tournament_SM() проводит турнир в соответствии со второй моделью.\n",
    "powers - массив сил игроков\n",
    "A - список матриц переходов\n",
    "schedule - расписание турнира\n",
    "N - число игроков\n",
    "f - функция из модели\n",
    "Возвращает число очков, которые набрала каждая из команд\"\"\"\n",
    "def start_tournament_SM(powers, A, schedule, N = 4, f = stats.norm.cdf):\n",
    "    points = [0 for _ in range(N)]\n",
    "    moods = [0 for _ in range(N)] # 0 - прошлая победа, 1 - прошлое поражение\n",
    "    for rnd in schedule:\n",
    "        for game in rnd:\n",
    "            j = game[0]\n",
    "            i = game[1]\n",
    "            P = f(powers[i] - powers[j]) + (1 - f(powers[i] - powers[j])) * A[i][moods[i]][0] * A[j][moods[j]][1] / (A[i][moods[i]][0] * A[j][moods[j]][1] + A[i][moods[i]][1] * A[j][moods[j]][0])\n",
    "            win_i = bernoulli(P).rvs()\n",
    "            points[i] += win_i\n",
    "            points[j] += 1 - win_i\n",
    "            moods[i] = 1 - win_i\n",
    "            moods[j] = win_i\n",
    "    return points"
   ]
  },
  {
   "cell_type": "markdown",
   "id": "b824fdfe",
   "metadata": {},
   "source": [
    "Продемонстрируем работу функций."
   ]
  },
  {
   "cell_type": "code",
   "execution_count": 18,
   "id": "ab8db0a9",
   "metadata": {},
   "outputs": [
    {
     "data": {
      "text/plain": [
       "array([0.06709373, 0.59370578, 0.77203179, 0.82821276])"
      ]
     },
     "execution_count": 18,
     "metadata": {},
     "output_type": "execute_result"
    }
   ],
   "source": [
    "get_array_of_powers()"
   ]
  },
  {
   "cell_type": "code",
   "execution_count": 19,
   "id": "1f6d8cf3",
   "metadata": {},
   "outputs": [
    {
     "data": {
      "text/plain": [
       "array([-1.71060335, -1.56798827, -1.02792377, -0.3930902 ,  0.33191845,\n",
       "        0.81170557,  2.93540621])"
      ]
     },
     "execution_count": 19,
     "metadata": {},
     "output_type": "execute_result"
    }
   ],
   "source": [
    "get_array_of_powers(N=7, distrib = stats.norm)"
   ]
  },
  {
   "cell_type": "code",
   "execution_count": 20,
   "id": "d2678fcc",
   "metadata": {},
   "outputs": [
    {
     "data": {
      "text/plain": [
       "[array([[0.28686687, 0.71313313],\n",
       "        [0.2685796 , 0.7314204 ]]),\n",
       " array([[0.86106294, 0.13893706],\n",
       "        [0.06986192, 0.93013808]]),\n",
       " array([[0.67761118, 0.32238882],\n",
       "        [0.17282005, 0.82717995]]),\n",
       " array([[0.34450589, 0.65549411],\n",
       "        [0.06154303, 0.93845697]])]"
      ]
     },
     "execution_count": 20,
     "metadata": {},
     "output_type": "execute_result"
    }
   ],
   "source": [
    "get_list_of_transformation_matrices()"
   ]
  },
  {
   "cell_type": "code",
   "execution_count": 21,
   "id": "cb798f58",
   "metadata": {},
   "outputs": [
    {
     "data": {
      "text/plain": [
       "[[[[0, 1], [2, 3]], [[0, 2], [1, 3]], [[0, 3], [1, 2]]],\n",
       " [[[0, 1], [2, 3]], [[0, 3], [1, 2]], [[0, 2], [1, 3]]],\n",
       " [[[0, 2], [1, 3]], [[0, 1], [2, 3]], [[0, 3], [1, 2]]],\n",
       " [[[0, 2], [1, 3]], [[0, 3], [1, 2]], [[0, 1], [2, 3]]],\n",
       " [[[0, 3], [1, 2]], [[0, 1], [2, 3]], [[0, 2], [1, 3]]],\n",
       " [[[0, 3], [1, 2]], [[0, 2], [1, 3]], [[0, 1], [2, 3]]]]"
      ]
     },
     "execution_count": 21,
     "metadata": {},
     "output_type": "execute_result"
    }
   ],
   "source": [
    "generate_all_schedules_4_teams()"
   ]
  },
  {
   "cell_type": "code",
   "execution_count": 22,
   "id": "7a1f86b3",
   "metadata": {},
   "outputs": [
    {
     "data": {
      "text/plain": [
       "[2, 3, 1, 0]"
      ]
     },
     "execution_count": 22,
     "metadata": {},
     "output_type": "execute_result"
    }
   ],
   "source": [
    "powers = get_array_of_powers()\n",
    "A = get_list_of_transformation_matrices()\n",
    "schedule = generate_all_schedules_4_teams()[0]\n",
    "start_tournament_FM(powers, A, schedule)"
   ]
  },
  {
   "cell_type": "code",
   "execution_count": 23,
   "id": "11ac6863",
   "metadata": {},
   "outputs": [
    {
     "data": {
      "text/plain": [
       "[1, 2, 1, 2]"
      ]
     },
     "execution_count": 23,
     "metadata": {},
     "output_type": "execute_result"
    }
   ],
   "source": [
    "powers = get_array_of_powers()\n",
    "A = get_list_of_transformation_matrices()\n",
    "schedule = generate_all_schedules_4_teams()[0]\n",
    "start_tournament_SM(powers, A, schedule)"
   ]
  },
  {
   "cell_type": "markdown",
   "id": "d7116528",
   "metadata": {},
   "source": [
    "Теперь проведем эксперименты. Будем случайно генерировать силы игроков и их матицы перехода, после чего проводить турнир по каждому из возможных расписаний. \n",
    "\n",
    "В качестве метрики качества будем использовать вероятность победы сильнейшего игрока на турнире. \n",
    "\n",
    "Если несколько игроков набрали одинаковое число очков, то места распределяются по жребию, каждый из этих игроков занимает наивысшее место равновероятно."
   ]
  },
  {
   "cell_type": "code",
   "execution_count": 25,
   "id": "0af46a4f",
   "metadata": {},
   "outputs": [
    {
     "name": "stderr",
     "output_type": "stream",
     "text": [
      "100%|██████████| 10000/10000 [07:34<00:00, 21.99it/s]"
     ]
    },
    {
     "name": "stdout",
     "output_type": "stream",
     "text": [
      "[0.39168333 0.39896667 0.3895     0.40783333 0.3895     0.39553333]\n",
      "[0.72096667 0.7487     0.7228     0.73135    0.71465    0.7273    ]\n"
     ]
    },
    {
     "name": "stderr",
     "output_type": "stream",
     "text": [
      "\n"
     ]
    }
   ],
   "source": [
    "np.random.seed(42) # Фиксируем seed для воспроизводимости\n",
    "\n",
    "iters = 10000\n",
    "schedules = generate_all_schedules_4_teams()\n",
    "prob_best_win_FM = np.zeros(len(schedules))\n",
    "prob_best_win_SM = np.zeros(len(schedules))\n",
    "\n",
    "for _ in tqdm(range(iters)):\n",
    "    powers = get_array_of_powers()\n",
    "    A = get_list_of_transformation_matrices()\n",
    "    for i in range(len(schedules)):\n",
    "        points = start_tournament_FM(powers, A, schedules[i])\n",
    "        if points[3] == 3:\n",
    "            prob_best_win_FM[i] += 1\n",
    "        elif points[3] == 2:\n",
    "            if points[0] == 0 or points[1] == 0 or points[2] == 0:\n",
    "                prob_best_win_FM[i] += 1/3\n",
    "            else:\n",
    "                prob_best_win_FM[i] += 0.5\n",
    "        points = start_tournament_SM(powers, A, schedules[i])\n",
    "        if points[3] == 3:\n",
    "            prob_best_win_SM[i] += 1\n",
    "        elif points[3] == 2:\n",
    "            if points[0] == 0 or points[1] == 0 or points[2] == 0:\n",
    "                prob_best_win_SM[i] += 1/3\n",
    "            else:\n",
    "                prob_best_win_SM[i] += 0.5\n",
    "\n",
    "print(prob_best_win_FM / iters)\n",
    "print(prob_best_win_SM / iters)"
   ]
  },
  {
   "cell_type": "code",
   "execution_count": 26,
   "id": "8fb1bcec",
   "metadata": {},
   "outputs": [
    {
     "name": "stderr",
     "output_type": "stream",
     "text": [
      "100%|██████████| 10000/10000 [07:26<00:00, 22.42it/s]"
     ]
    },
    {
     "name": "stdout",
     "output_type": "stream",
     "text": [
      "[0.53408333 0.54715    0.53026667 0.54408333 0.5316     0.54305   ]\n",
      "[0.86313333 0.87446667 0.86476667 0.86583333 0.85758333 0.87445   ]\n"
     ]
    },
    {
     "name": "stderr",
     "output_type": "stream",
     "text": [
      "\n"
     ]
    }
   ],
   "source": [
    "# Теперь рассмотрим нормальное распределение для сил игроков\n",
    "\n",
    "np.random.seed(42) # Фиксируем seed для воспроизводимости\n",
    "\n",
    "iters = 10000\n",
    "schedules = generate_all_schedules_4_teams()\n",
    "prob_best_win_FM = np.zeros(len(schedules))\n",
    "prob_best_win_SM = np.zeros(len(schedules))\n",
    "\n",
    "for _ in tqdm(range(iters)):\n",
    "    powers = get_array_of_powers(distrib = stats.norm)\n",
    "    A = get_list_of_transformation_matrices()\n",
    "    for i in range(len(schedules)):\n",
    "        points = start_tournament_FM(powers, A, schedules[i])\n",
    "        if points[3] == 3:\n",
    "            prob_best_win_FM[i] += 1\n",
    "        elif points[3] == 2:\n",
    "            if points[0] == 0 or points[1] == 0 or points[2] == 0:\n",
    "                prob_best_win_FM[i] += 1/3\n",
    "            else:\n",
    "                prob_best_win_FM[i] += 0.5\n",
    "        points = start_tournament_SM(powers, A, schedules[i])\n",
    "        if points[3] == 3:\n",
    "            prob_best_win_SM[i] += 1\n",
    "        elif points[3] == 2:\n",
    "            if points[0] == 0 or points[1] == 0 or points[2] == 0:\n",
    "                prob_best_win_SM[i] += 1/3\n",
    "            else:\n",
    "                prob_best_win_SM[i] += 0.5\n",
    "\n",
    "print(prob_best_win_FM / iters)\n",
    "print(prob_best_win_SM / iters)"
   ]
  },
  {
   "cell_type": "code",
   "execution_count": null,
   "id": "0a99e2c6",
   "metadata": {},
   "outputs": [],
   "source": []
  }
 ],
 "metadata": {
  "kernelspec": {
   "display_name": "Python 3",
   "language": "python",
   "name": "python3"
  },
  "language_info": {
   "codemirror_mode": {
    "name": "ipython",
    "version": 3
   },
   "file_extension": ".py",
   "mimetype": "text/x-python",
   "name": "python",
   "nbconvert_exporter": "python",
   "pygments_lexer": "ipython3",
   "version": "3.8.8"
  }
 },
 "nbformat": 4,
 "nbformat_minor": 5
}
