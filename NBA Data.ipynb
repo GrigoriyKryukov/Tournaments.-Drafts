{
 "cells": [
  {
   "cell_type": "markdown",
   "id": "f14752bf",
   "metadata": {},
   "source": [
    "### Анализ игр NBA\n",
    "\n",
    "Подготовил Григорий Крюков"
   ]
  },
  {
   "cell_type": "markdown",
   "id": "3e7717d9",
   "metadata": {},
   "source": [
    "Источник данных: https://www.kaggle.com/datasets/nathanlauga/nba-games"
   ]
  },
  {
   "cell_type": "code",
   "execution_count": 1,
   "id": "338c1395",
   "metadata": {},
   "outputs": [],
   "source": [
    "import numpy as np\n",
    "import pandas as pd\n",
    "from tqdm import tqdm"
   ]
  },
  {
   "cell_type": "code",
   "execution_count": 2,
   "id": "830f7091",
   "metadata": {},
   "outputs": [],
   "source": [
    "df = pd.read_csv(\"games.csv\")"
   ]
  },
  {
   "cell_type": "code",
   "execution_count": 3,
   "id": "c4ed72ba",
   "metadata": {},
   "outputs": [
    {
     "data": {
      "text/html": [
       "<div>\n",
       "<style scoped>\n",
       "    .dataframe tbody tr th:only-of-type {\n",
       "        vertical-align: middle;\n",
       "    }\n",
       "\n",
       "    .dataframe tbody tr th {\n",
       "        vertical-align: top;\n",
       "    }\n",
       "\n",
       "    .dataframe thead th {\n",
       "        text-align: right;\n",
       "    }\n",
       "</style>\n",
       "<table border=\"1\" class=\"dataframe\">\n",
       "  <thead>\n",
       "    <tr style=\"text-align: right;\">\n",
       "      <th></th>\n",
       "      <th>GAME_DATE_EST</th>\n",
       "      <th>GAME_ID</th>\n",
       "      <th>GAME_STATUS_TEXT</th>\n",
       "      <th>HOME_TEAM_ID</th>\n",
       "      <th>VISITOR_TEAM_ID</th>\n",
       "      <th>SEASON</th>\n",
       "      <th>TEAM_ID_home</th>\n",
       "      <th>PTS_home</th>\n",
       "      <th>FG_PCT_home</th>\n",
       "      <th>FT_PCT_home</th>\n",
       "      <th>...</th>\n",
       "      <th>AST_home</th>\n",
       "      <th>REB_home</th>\n",
       "      <th>TEAM_ID_away</th>\n",
       "      <th>PTS_away</th>\n",
       "      <th>FG_PCT_away</th>\n",
       "      <th>FT_PCT_away</th>\n",
       "      <th>FG3_PCT_away</th>\n",
       "      <th>AST_away</th>\n",
       "      <th>REB_away</th>\n",
       "      <th>HOME_TEAM_WINS</th>\n",
       "    </tr>\n",
       "  </thead>\n",
       "  <tbody>\n",
       "    <tr>\n",
       "      <th>0</th>\n",
       "      <td>2022-03-12</td>\n",
       "      <td>22101005</td>\n",
       "      <td>Final</td>\n",
       "      <td>1610612748</td>\n",
       "      <td>1610612750</td>\n",
       "      <td>2021</td>\n",
       "      <td>1610612748</td>\n",
       "      <td>104.0</td>\n",
       "      <td>0.398</td>\n",
       "      <td>0.760</td>\n",
       "      <td>...</td>\n",
       "      <td>23.0</td>\n",
       "      <td>53.0</td>\n",
       "      <td>1610612750</td>\n",
       "      <td>113.0</td>\n",
       "      <td>0.422</td>\n",
       "      <td>0.875</td>\n",
       "      <td>0.357</td>\n",
       "      <td>21.0</td>\n",
       "      <td>46.0</td>\n",
       "      <td>0</td>\n",
       "    </tr>\n",
       "    <tr>\n",
       "      <th>1</th>\n",
       "      <td>2022-03-12</td>\n",
       "      <td>22101006</td>\n",
       "      <td>Final</td>\n",
       "      <td>1610612741</td>\n",
       "      <td>1610612739</td>\n",
       "      <td>2021</td>\n",
       "      <td>1610612741</td>\n",
       "      <td>101.0</td>\n",
       "      <td>0.443</td>\n",
       "      <td>0.933</td>\n",
       "      <td>...</td>\n",
       "      <td>20.0</td>\n",
       "      <td>46.0</td>\n",
       "      <td>1610612739</td>\n",
       "      <td>91.0</td>\n",
       "      <td>0.419</td>\n",
       "      <td>0.824</td>\n",
       "      <td>0.208</td>\n",
       "      <td>19.0</td>\n",
       "      <td>40.0</td>\n",
       "      <td>1</td>\n",
       "    </tr>\n",
       "    <tr>\n",
       "      <th>2</th>\n",
       "      <td>2022-03-12</td>\n",
       "      <td>22101007</td>\n",
       "      <td>Final</td>\n",
       "      <td>1610612759</td>\n",
       "      <td>1610612754</td>\n",
       "      <td>2021</td>\n",
       "      <td>1610612759</td>\n",
       "      <td>108.0</td>\n",
       "      <td>0.412</td>\n",
       "      <td>0.813</td>\n",
       "      <td>...</td>\n",
       "      <td>28.0</td>\n",
       "      <td>52.0</td>\n",
       "      <td>1610612754</td>\n",
       "      <td>119.0</td>\n",
       "      <td>0.489</td>\n",
       "      <td>1.000</td>\n",
       "      <td>0.389</td>\n",
       "      <td>23.0</td>\n",
       "      <td>47.0</td>\n",
       "      <td>0</td>\n",
       "    </tr>\n",
       "    <tr>\n",
       "      <th>3</th>\n",
       "      <td>2022-03-12</td>\n",
       "      <td>22101008</td>\n",
       "      <td>Final</td>\n",
       "      <td>1610612744</td>\n",
       "      <td>1610612749</td>\n",
       "      <td>2021</td>\n",
       "      <td>1610612744</td>\n",
       "      <td>122.0</td>\n",
       "      <td>0.484</td>\n",
       "      <td>0.933</td>\n",
       "      <td>...</td>\n",
       "      <td>33.0</td>\n",
       "      <td>55.0</td>\n",
       "      <td>1610612749</td>\n",
       "      <td>109.0</td>\n",
       "      <td>0.413</td>\n",
       "      <td>0.696</td>\n",
       "      <td>0.386</td>\n",
       "      <td>27.0</td>\n",
       "      <td>39.0</td>\n",
       "      <td>1</td>\n",
       "    </tr>\n",
       "    <tr>\n",
       "      <th>4</th>\n",
       "      <td>2022-03-12</td>\n",
       "      <td>22101009</td>\n",
       "      <td>Final</td>\n",
       "      <td>1610612743</td>\n",
       "      <td>1610612761</td>\n",
       "      <td>2021</td>\n",
       "      <td>1610612743</td>\n",
       "      <td>115.0</td>\n",
       "      <td>0.551</td>\n",
       "      <td>0.750</td>\n",
       "      <td>...</td>\n",
       "      <td>32.0</td>\n",
       "      <td>39.0</td>\n",
       "      <td>1610612761</td>\n",
       "      <td>127.0</td>\n",
       "      <td>0.471</td>\n",
       "      <td>0.760</td>\n",
       "      <td>0.387</td>\n",
       "      <td>28.0</td>\n",
       "      <td>50.0</td>\n",
       "      <td>0</td>\n",
       "    </tr>\n",
       "    <tr>\n",
       "      <th>...</th>\n",
       "      <td>...</td>\n",
       "      <td>...</td>\n",
       "      <td>...</td>\n",
       "      <td>...</td>\n",
       "      <td>...</td>\n",
       "      <td>...</td>\n",
       "      <td>...</td>\n",
       "      <td>...</td>\n",
       "      <td>...</td>\n",
       "      <td>...</td>\n",
       "      <td>...</td>\n",
       "      <td>...</td>\n",
       "      <td>...</td>\n",
       "      <td>...</td>\n",
       "      <td>...</td>\n",
       "      <td>...</td>\n",
       "      <td>...</td>\n",
       "      <td>...</td>\n",
       "      <td>...</td>\n",
       "      <td>...</td>\n",
       "      <td>...</td>\n",
       "    </tr>\n",
       "    <tr>\n",
       "      <th>25791</th>\n",
       "      <td>2014-10-06</td>\n",
       "      <td>11400007</td>\n",
       "      <td>Final</td>\n",
       "      <td>1610612737</td>\n",
       "      <td>1610612740</td>\n",
       "      <td>2014</td>\n",
       "      <td>1610612737</td>\n",
       "      <td>93.0</td>\n",
       "      <td>0.419</td>\n",
       "      <td>0.821</td>\n",
       "      <td>...</td>\n",
       "      <td>24.0</td>\n",
       "      <td>50.0</td>\n",
       "      <td>1610612740</td>\n",
       "      <td>87.0</td>\n",
       "      <td>0.366</td>\n",
       "      <td>0.643</td>\n",
       "      <td>0.375</td>\n",
       "      <td>17.0</td>\n",
       "      <td>43.0</td>\n",
       "      <td>1</td>\n",
       "    </tr>\n",
       "    <tr>\n",
       "      <th>25792</th>\n",
       "      <td>2014-10-06</td>\n",
       "      <td>11400004</td>\n",
       "      <td>Final</td>\n",
       "      <td>1610612741</td>\n",
       "      <td>1610612764</td>\n",
       "      <td>2014</td>\n",
       "      <td>1610612741</td>\n",
       "      <td>81.0</td>\n",
       "      <td>0.338</td>\n",
       "      <td>0.719</td>\n",
       "      <td>...</td>\n",
       "      <td>18.0</td>\n",
       "      <td>40.0</td>\n",
       "      <td>1610612764</td>\n",
       "      <td>85.0</td>\n",
       "      <td>0.411</td>\n",
       "      <td>0.636</td>\n",
       "      <td>0.267</td>\n",
       "      <td>17.0</td>\n",
       "      <td>47.0</td>\n",
       "      <td>0</td>\n",
       "    </tr>\n",
       "    <tr>\n",
       "      <th>25793</th>\n",
       "      <td>2014-10-06</td>\n",
       "      <td>11400005</td>\n",
       "      <td>Final</td>\n",
       "      <td>1610612747</td>\n",
       "      <td>1610612743</td>\n",
       "      <td>2014</td>\n",
       "      <td>1610612747</td>\n",
       "      <td>98.0</td>\n",
       "      <td>0.448</td>\n",
       "      <td>0.682</td>\n",
       "      <td>...</td>\n",
       "      <td>29.0</td>\n",
       "      <td>45.0</td>\n",
       "      <td>1610612743</td>\n",
       "      <td>95.0</td>\n",
       "      <td>0.387</td>\n",
       "      <td>0.659</td>\n",
       "      <td>0.500</td>\n",
       "      <td>19.0</td>\n",
       "      <td>43.0</td>\n",
       "      <td>1</td>\n",
       "    </tr>\n",
       "    <tr>\n",
       "      <th>25794</th>\n",
       "      <td>2014-10-05</td>\n",
       "      <td>11400002</td>\n",
       "      <td>Final</td>\n",
       "      <td>1610612761</td>\n",
       "      <td>1610612758</td>\n",
       "      <td>2014</td>\n",
       "      <td>1610612761</td>\n",
       "      <td>99.0</td>\n",
       "      <td>0.440</td>\n",
       "      <td>0.771</td>\n",
       "      <td>...</td>\n",
       "      <td>21.0</td>\n",
       "      <td>30.0</td>\n",
       "      <td>1610612758</td>\n",
       "      <td>94.0</td>\n",
       "      <td>0.469</td>\n",
       "      <td>0.725</td>\n",
       "      <td>0.385</td>\n",
       "      <td>18.0</td>\n",
       "      <td>45.0</td>\n",
       "      <td>1</td>\n",
       "    </tr>\n",
       "    <tr>\n",
       "      <th>25795</th>\n",
       "      <td>2014-10-04</td>\n",
       "      <td>11400001</td>\n",
       "      <td>Final</td>\n",
       "      <td>1610612748</td>\n",
       "      <td>1610612740</td>\n",
       "      <td>2014</td>\n",
       "      <td>1610612748</td>\n",
       "      <td>86.0</td>\n",
       "      <td>0.431</td>\n",
       "      <td>0.679</td>\n",
       "      <td>...</td>\n",
       "      <td>18.0</td>\n",
       "      <td>42.0</td>\n",
       "      <td>1610612740</td>\n",
       "      <td>98.0</td>\n",
       "      <td>0.462</td>\n",
       "      <td>0.706</td>\n",
       "      <td>0.438</td>\n",
       "      <td>19.0</td>\n",
       "      <td>42.0</td>\n",
       "      <td>0</td>\n",
       "    </tr>\n",
       "  </tbody>\n",
       "</table>\n",
       "<p>25796 rows × 21 columns</p>\n",
       "</div>"
      ],
      "text/plain": [
       "      GAME_DATE_EST   GAME_ID GAME_STATUS_TEXT  HOME_TEAM_ID  VISITOR_TEAM_ID  \\\n",
       "0        2022-03-12  22101005            Final    1610612748       1610612750   \n",
       "1        2022-03-12  22101006            Final    1610612741       1610612739   \n",
       "2        2022-03-12  22101007            Final    1610612759       1610612754   \n",
       "3        2022-03-12  22101008            Final    1610612744       1610612749   \n",
       "4        2022-03-12  22101009            Final    1610612743       1610612761   \n",
       "...             ...       ...              ...           ...              ...   \n",
       "25791    2014-10-06  11400007            Final    1610612737       1610612740   \n",
       "25792    2014-10-06  11400004            Final    1610612741       1610612764   \n",
       "25793    2014-10-06  11400005            Final    1610612747       1610612743   \n",
       "25794    2014-10-05  11400002            Final    1610612761       1610612758   \n",
       "25795    2014-10-04  11400001            Final    1610612748       1610612740   \n",
       "\n",
       "       SEASON  TEAM_ID_home  PTS_home  FG_PCT_home  FT_PCT_home  ...  \\\n",
       "0        2021    1610612748     104.0        0.398        0.760  ...   \n",
       "1        2021    1610612741     101.0        0.443        0.933  ...   \n",
       "2        2021    1610612759     108.0        0.412        0.813  ...   \n",
       "3        2021    1610612744     122.0        0.484        0.933  ...   \n",
       "4        2021    1610612743     115.0        0.551        0.750  ...   \n",
       "...       ...           ...       ...          ...          ...  ...   \n",
       "25791    2014    1610612737      93.0        0.419        0.821  ...   \n",
       "25792    2014    1610612741      81.0        0.338        0.719  ...   \n",
       "25793    2014    1610612747      98.0        0.448        0.682  ...   \n",
       "25794    2014    1610612761      99.0        0.440        0.771  ...   \n",
       "25795    2014    1610612748      86.0        0.431        0.679  ...   \n",
       "\n",
       "       AST_home  REB_home  TEAM_ID_away  PTS_away  FG_PCT_away  FT_PCT_away  \\\n",
       "0          23.0      53.0    1610612750     113.0        0.422        0.875   \n",
       "1          20.0      46.0    1610612739      91.0        0.419        0.824   \n",
       "2          28.0      52.0    1610612754     119.0        0.489        1.000   \n",
       "3          33.0      55.0    1610612749     109.0        0.413        0.696   \n",
       "4          32.0      39.0    1610612761     127.0        0.471        0.760   \n",
       "...         ...       ...           ...       ...          ...          ...   \n",
       "25791      24.0      50.0    1610612740      87.0        0.366        0.643   \n",
       "25792      18.0      40.0    1610612764      85.0        0.411        0.636   \n",
       "25793      29.0      45.0    1610612743      95.0        0.387        0.659   \n",
       "25794      21.0      30.0    1610612758      94.0        0.469        0.725   \n",
       "25795      18.0      42.0    1610612740      98.0        0.462        0.706   \n",
       "\n",
       "       FG3_PCT_away  AST_away  REB_away  HOME_TEAM_WINS  \n",
       "0             0.357      21.0      46.0               0  \n",
       "1             0.208      19.0      40.0               1  \n",
       "2             0.389      23.0      47.0               0  \n",
       "3             0.386      27.0      39.0               1  \n",
       "4             0.387      28.0      50.0               0  \n",
       "...             ...       ...       ...             ...  \n",
       "25791         0.375      17.0      43.0               1  \n",
       "25792         0.267      17.0      47.0               0  \n",
       "25793         0.500      19.0      43.0               1  \n",
       "25794         0.385      18.0      45.0               1  \n",
       "25795         0.438      19.0      42.0               0  \n",
       "\n",
       "[25796 rows x 21 columns]"
      ]
     },
     "execution_count": 3,
     "metadata": {},
     "output_type": "execute_result"
    }
   ],
   "source": [
    "df"
   ]
  },
  {
   "cell_type": "code",
   "execution_count": 4,
   "id": "1df08a3a",
   "metadata": {},
   "outputs": [
    {
     "data": {
      "text/plain": [
       "True"
      ]
     },
     "execution_count": 4,
     "metadata": {},
     "output_type": "execute_result"
    }
   ],
   "source": [
    "# ID команд в таблицах дома и на выезде совпадают\n",
    "sorted(df.HOME_TEAM_ID.unique()) == sorted(df.VISITOR_TEAM_ID.unique())"
   ]
  },
  {
   "cell_type": "code",
   "execution_count": 5,
   "id": "23533dab",
   "metadata": {},
   "outputs": [
    {
     "data": {
      "text/plain": [
       "30"
      ]
     },
     "execution_count": 5,
     "metadata": {},
     "output_type": "execute_result"
    }
   ],
   "source": [
    "team_id = sorted(df.HOME_TEAM_ID.unique())\n",
    "len(team_id)"
   ]
  },
  {
   "cell_type": "code",
   "execution_count": 6,
   "id": "a6a04500",
   "metadata": {},
   "outputs": [],
   "source": [
    "N = 30\n",
    "prev_win = [1 for i in range(N)] # Выиграна ли предыдущая игра\n",
    "TM = [np.zeros((2, 2)) for i in range(N)] # Матрицы переходов\n",
    "k = 1610612737 # Параметр, вычитание которого из id команды приводит к порядковому номеру\n",
    "# Проходимся циклом с конца таблицы (в хронологическом порядке), заполняем соответствующие значения матриц переходов\n",
    "for i in range(len(df) - 1, -1, -1):\n",
    "    home = df.HOME_TEAM_ID[i] - k\n",
    "    visitor = df.VISITOR_TEAM_ID[i] - k\n",
    "    if df.HOME_TEAM_WINS[i] == 1:\n",
    "        TM[home][1 - prev_win[home]][0] += 1\n",
    "        TM[visitor][1 - prev_win[visitor]][1] += 1\n",
    "        prev_win[home] = 1\n",
    "        prev_win[visitor] = 0\n",
    "    else:\n",
    "        TM[home][1 - prev_win[home]][1] += 1\n",
    "        TM[visitor][1 - prev_win[visitor]][0] += 1\n",
    "        prev_win[home] = 0\n",
    "        prev_win[visitor] = 1"
   ]
  },
  {
   "cell_type": "code",
   "execution_count": 7,
   "id": "3d6b53a9",
   "metadata": {},
   "outputs": [],
   "source": [
    "# Промежуточная проверка на правильность: сумма всех значений в матрицах переходов в два раза больше числа игр\n",
    "S = 0\n",
    "for i in range(N):\n",
    "    S += TM[i].sum()\n",
    "assert S == 2 * len(df) \n",
    "# Для каждой из команд модуль разницы между числом побед после поражения и числом поражений после побед не может превосходить 1\n",
    "for i in range(N):\n",
    "    assert np.abs(TM[i][0][1] - TM[i][1][0]) <= 1"
   ]
  },
  {
   "cell_type": "code",
   "execution_count": 8,
   "id": "a8c278ed",
   "metadata": {},
   "outputs": [],
   "source": [
    "# Теперь нам осталось получить \"настоящие\" оценки матриц переходов\n",
    "# Для этого все строки матриц TM нормируем так, чтобы сумма по строкам была равна 1\n",
    "for i in range(N):\n",
    "    TM[i][0] /= TM[i][0].sum()\n",
    "    TM[i][1] /= TM[i][1].sum()"
   ]
  },
  {
   "cell_type": "code",
   "execution_count": 9,
   "id": "e84009c2",
   "metadata": {},
   "outputs": [
    {
     "data": {
      "text/plain": [
       "[array([[0.488228  , 0.511772  ],\n",
       "        [0.44745395, 0.55254605]]),\n",
       " array([[0.59643917, 0.40356083],\n",
       "        [0.50809465, 0.49190535]]),\n",
       " array([[0.58555556, 0.41444444],\n",
       "        [0.43155452, 0.56844548]]),\n",
       " array([[0.4816273 , 0.5183727 ],\n",
       "        [0.43439912, 0.56560088]]),\n",
       " array([[0.51847575, 0.48152425],\n",
       "        [0.49116608, 0.50883392]]),\n",
       " array([[0.5748503 , 0.4251497 ],\n",
       "        [0.56648936, 0.43351064]]),\n",
       " array([[0.57525773, 0.42474227],\n",
       "        [0.53446034, 0.46553966]]),\n",
       " array([[0.59816887, 0.40183113],\n",
       "        [0.5156658 , 0.4843342 ]]),\n",
       " array([[0.59146341, 0.40853659],\n",
       "        [0.52624672, 0.47375328]]),\n",
       " array([[0.54983203, 0.45016797],\n",
       "        [0.479092  , 0.520908  ]]),\n",
       " array([[0.58665231, 0.41334769],\n",
       "        [0.44859813, 0.55140187]]),\n",
       " array([[0.57803468, 0.42196532],\n",
       "        [0.55176768, 0.44823232]]),\n",
       " array([[0.4969475 , 0.5030525 ],\n",
       "        [0.45870536, 0.54129464]]),\n",
       " array([[0.4222561 , 0.5777439 ],\n",
       "        [0.38594705, 0.61405295]]),\n",
       " array([[0.48138298, 0.51861702],\n",
       "        [0.41052632, 0.58947368]]),\n",
       " array([[0.44764795, 0.55235205],\n",
       "        [0.37116564, 0.62883436]]),\n",
       " array([[0.51116951, 0.48883049],\n",
       "        [0.39658849, 0.60341151]]),\n",
       " array([[0.51819184, 0.48180816],\n",
       "        [0.52272727, 0.47727273]]),\n",
       " array([[0.49017038, 0.50982962],\n",
       "        [0.41855448, 0.58144552]]),\n",
       " array([[0.56334842, 0.43665158],\n",
       "        [0.46553809, 0.53446191]]),\n",
       " array([[0.51647059, 0.48352941],\n",
       "        [0.48070175, 0.51929825]]),\n",
       " array([[0.41654357, 0.58345643],\n",
       "        [0.40451745, 0.59548255]]),\n",
       " array([[0.66010274, 0.33989726],\n",
       "        [0.60550459, 0.39449541]]),\n",
       " array([[0.57064622, 0.42935378],\n",
       "        [0.47451456, 0.52548544]]),\n",
       " array([[0.5520362 , 0.4479638 ],\n",
       "        [0.47596154, 0.52403846]]),\n",
       " array([[0.54967603, 0.45032397],\n",
       "        [0.5278481 , 0.4721519 ]]),\n",
       " array([[0.53584019, 0.46415981],\n",
       "        [0.4614486 , 0.5385514 ]]),\n",
       " array([[0.44776119, 0.55223881],\n",
       "        [0.42424242, 0.57575758]]),\n",
       " array([[0.53643967, 0.46356033],\n",
       "        [0.43095768, 0.56904232]]),\n",
       " array([[0.44694534, 0.55305466],\n",
       "        [0.37029064, 0.62970936]])]"
      ]
     },
     "execution_count": 9,
     "metadata": {},
     "output_type": "execute_result"
    }
   ],
   "source": [
    "# Полученные матрицы переходов\n",
    "TM"
   ]
  },
  {
   "cell_type": "code",
   "execution_count": 10,
   "id": "de57c95d",
   "metadata": {},
   "outputs": [
    {
     "data": {
      "text/plain": [
       "29"
      ]
     },
     "execution_count": 10,
     "metadata": {},
     "output_type": "execute_result"
    }
   ],
   "source": [
    "is_win_lover = 0\n",
    "for i in range(N):\n",
    "    if TM[i][0][0] > TM[i][1][0]:\n",
    "        is_win_lover += 1\n",
    "is_win_lover"
   ]
  },
  {
   "cell_type": "code",
   "execution_count": 11,
   "id": "0b5d3d2f",
   "metadata": {},
   "outputs": [
    {
     "data": {
      "text/plain": [
       "6.22477720214843"
      ]
     },
     "execution_count": 11,
     "metadata": {},
     "output_type": "execute_result"
    }
   ],
   "source": [
    "win_lose_diff = 0\n",
    "for i in range(N):\n",
    "    win_lose_diff += TM[i][0][0] - TM[i][1][0]\n",
    "win_lose_diff / N * 100"
   ]
  },
  {
   "cell_type": "markdown",
   "id": "bb7adef8",
   "metadata": {},
   "source": [
    "Для 29 команд из 30 вероятность выиграть после победы больше, чем вероятность выиграть после поражения.\n",
    "\n",
    "В среднем вероятность победы в текущей игре при победе в прошлой игре на 6.22% выше, чем вероятность победы в текущей игре при поражении в прошлой игре.\n",
    "\n",
    "Это подтверждает состоятельность нашего предположения о психологических эффектах."
   ]
  },
  {
   "cell_type": "markdown",
   "id": "a1f3a9bc",
   "metadata": {},
   "source": [
    "#### Силы команд"
   ]
  },
  {
   "cell_type": "markdown",
   "id": "a4866d2a",
   "metadata": {},
   "source": [
    "Базовый подход: доля выигранных матчей."
   ]
  },
  {
   "cell_type": "code",
   "execution_count": 30,
   "id": "3cf8d51d",
   "metadata": {},
   "outputs": [],
   "source": [
    "w = np.zeros(N)\n",
    "prev_win = [1 for i in range(N)] # Выиграна ли предыдущая игра\n",
    "A = [np.zeros((2, 2)) for i in range(N)] # Матрицы переходов\n",
    "k = 1610612737 # Параметр, вычитание которого из id команды приводит к порядковому номеру\n",
    "# Проходимся циклом с конца таблицы (в хронологическом порядке), заполняем соответствующие значения матриц переходов\n",
    "for i in range(len(df) - 1, -1, -1):\n",
    "    home = df.HOME_TEAM_ID[i] - k\n",
    "    visitor = df.VISITOR_TEAM_ID[i] - k\n",
    "    if df.HOME_TEAM_WINS[i] == 1:\n",
    "        A[home][1 - prev_win[home]][0] += 1\n",
    "        A[visitor][1 - prev_win[visitor]][1] += 1\n",
    "        prev_win[home] = 1\n",
    "        prev_win[visitor] = 0\n",
    "    else:\n",
    "        A[home][1 - prev_win[home]][1] += 1\n",
    "        A[visitor][1 - prev_win[visitor]][0] += 1\n",
    "        prev_win[home] = 0\n",
    "        prev_win[visitor] = 1\n",
    "        \n",
    "# Теперь поделим число выигранных матчей на число всех матчей\n",
    "for i in range(N):\n",
    "    w[i] = A[i].sum(axis=1)[0] / A[i].sum()"
   ]
  },
  {
   "cell_type": "code",
   "execution_count": 31,
   "id": "16368697",
   "metadata": {},
   "outputs": [
    {
     "data": {
      "text/plain": [
       "array([0.46647399, 0.55733186, 0.5107832 , 0.45656081, 0.50495627,\n",
       "       0.57126568, 0.55779183, 0.56203545, 0.56357388, 0.51618497,\n",
       "       0.52044818, 0.56721311, 0.47755102, 0.4004884 , 0.44183314,\n",
       "       0.40256567, 0.44791054, 0.52036718, 0.45147929, 0.51665693,\n",
       "       0.49853372, 0.41005451, 0.64105379, 0.52561888, 0.51515152,\n",
       "       0.53962704, 0.49853544, 0.43506494, 0.48242075, 0.40103159])"
      ]
     },
     "execution_count": 31,
     "metadata": {},
     "output_type": "execute_result"
    }
   ],
   "source": [
    "w"
   ]
  },
  {
   "cell_type": "code",
   "execution_count": 35,
   "id": "6b793452",
   "metadata": {},
   "outputs": [
    {
     "data": {
      "text/plain": [
       "array([13, 29, 15, 21, 27, 14, 16, 18,  3,  0, 12, 28, 20, 26,  4,  2, 24,\n",
       "        9, 19, 17, 10, 23, 25,  1,  6,  7,  8, 11,  5, 22], dtype=int64)"
      ]
     },
     "execution_count": 35,
     "metadata": {},
     "output_type": "execute_result"
    }
   ],
   "source": [
    "# Сортируем команды от слабейшей к сильнейшей\n",
    "np.argsort(w)"
   ]
  },
  {
   "cell_type": "markdown",
   "id": "7648a20a",
   "metadata": {},
   "source": [
    "Стационарное распределение матрицы."
   ]
  },
  {
   "cell_type": "code",
   "execution_count": 14,
   "id": "b77816bb",
   "metadata": {},
   "outputs": [],
   "source": [
    "def get_stat(p, q):\n",
    "    return q/(1-p+q), (1-p)/(1-p+q)"
   ]
  },
  {
   "cell_type": "code",
   "execution_count": 15,
   "id": "7f2a8bc7",
   "metadata": {},
   "outputs": [
    {
     "data": {
      "text/plain": [
       "(0.5, 0.5)"
      ]
     },
     "execution_count": 15,
     "metadata": {},
     "output_type": "execute_result"
    }
   ],
   "source": [
    "get_stat(0.5, 0.5)"
   ]
  },
  {
   "cell_type": "code",
   "execution_count": 16,
   "id": "64d6ae2d",
   "metadata": {},
   "outputs": [
    {
     "data": {
      "text/plain": [
       "(0.625, 0.37500000000000006)"
      ]
     },
     "execution_count": 16,
     "metadata": {},
     "output_type": "execute_result"
    }
   ],
   "source": [
    "get_stat(0.7, 0.5)"
   ]
  },
  {
   "cell_type": "code",
   "execution_count": 18,
   "id": "571c4096",
   "metadata": {},
   "outputs": [
    {
     "data": {
      "text/plain": [
       "(0.37499999999999994, 0.625)"
      ]
     },
     "execution_count": 18,
     "metadata": {},
     "output_type": "execute_result"
    }
   ],
   "source": [
    "get_stat(0.5, 0.3)"
   ]
  },
  {
   "cell_type": "code",
   "execution_count": 20,
   "id": "56cb77db",
   "metadata": {},
   "outputs": [],
   "source": [
    "# Проверка на стабильность результатов в зависимости от нумерации команд:\n",
    "for i in range(1000):\n",
    "    p = np.random.random()\n",
    "    q = np.random.random()\n",
    "    assert np.round(get_stat(p, q)[0] - get_stat(1-q, 1-p)[1], 4) == 0"
   ]
  },
  {
   "cell_type": "markdown",
   "id": "0dc2b39a",
   "metadata": {},
   "source": [
    "Теперь посчитаем полученную метрику для модели с психологическим эффектом.\n",
    "\n",
    "$$u(i) = \\frac{p_i + q_i - 1}{p_i q_i}$$"
   ]
  },
  {
   "cell_type": "code",
   "execution_count": 38,
   "id": "e8dc8515",
   "metadata": {},
   "outputs": [],
   "source": [
    "def func_u(p, q):\n",
    "    return (p + q - 1) / (p * q)\n",
    "\n",
    "u = np.zeros(N)\n",
    "for i in range(N):\n",
    "    p = TM[i][0][0]\n",
    "    q = TM[i][1][0]\n",
    "    u[i] = func_u(p, q)"
   ]
  },
  {
   "cell_type": "code",
   "execution_count": 39,
   "id": "50849857",
   "metadata": {},
   "outputs": [
    {
     "data": {
      "text/plain": [
       "array([-0.29441624,  0.34494196,  0.06770929, -0.40136793,  0.03786192,\n",
       "        0.43402778,  0.35686192,  0.36904762,  0.37817827,  0.10980187,\n",
       "        0.13394495,  0.40697941, -0.19454557, -1.17689531, -0.54696133,\n",
       "       -1.09048886, -0.45501285,  0.15106383, -0.44489084,  0.11014447,\n",
       "       -0.01138952, -1.06195773,  0.66452462,  0.16678039,  0.10655738,\n",
       "        0.26719057, -0.01096491, -0.67380952, -0.14102542, -1.10431655])"
      ]
     },
     "execution_count": 39,
     "metadata": {},
     "output_type": "execute_result"
    }
   ],
   "source": [
    "u"
   ]
  },
  {
   "cell_type": "code",
   "execution_count": 41,
   "id": "0e82bd62",
   "metadata": {},
   "outputs": [
    {
     "data": {
      "text/plain": [
       "array([13, 29, 15, 21, 27, 14, 16, 18,  3,  0, 12, 28, 20, 26,  4,  2, 24,\n",
       "        9, 19, 10, 17, 23, 25,  1,  6,  7,  8, 11,  5, 22], dtype=int64)"
      ]
     },
     "execution_count": 41,
     "metadata": {},
     "output_type": "execute_result"
    }
   ],
   "source": [
    "# Сортируем команды от слабейшей к сильнейшей\n",
    "np.argsort(u)"
   ]
  },
  {
   "cell_type": "markdown",
   "id": "a950f0eb",
   "metadata": {},
   "source": [
    "Сравним сортировки w_i, u_i."
   ]
  },
  {
   "cell_type": "code",
   "execution_count": 42,
   "id": "098cf576",
   "metadata": {},
   "outputs": [
    {
     "data": {
      "text/plain": [
       "(array([13, 29, 15, 21, 27, 14, 16, 18,  3,  0, 12, 28, 20, 26,  4,  2, 24,\n",
       "         9, 19, 17, 10, 23, 25,  1,  6,  7,  8, 11,  5, 22], dtype=int64),\n",
       " array([13, 29, 15, 21, 27, 14, 16, 18,  3,  0, 12, 28, 20, 26,  4,  2, 24,\n",
       "         9, 19, 10, 17, 23, 25,  1,  6,  7,  8, 11,  5, 22], dtype=int64))"
      ]
     },
     "execution_count": 42,
     "metadata": {},
     "output_type": "execute_result"
    }
   ],
   "source": [
    "np.argsort(w), np.argsort(u)"
   ]
  },
  {
   "cell_type": "code",
   "execution_count": 43,
   "id": "1ed49f44",
   "metadata": {},
   "outputs": [
    {
     "data": {
      "text/plain": [
       "array([[1.      , 0.978198],\n",
       "       [0.978198, 1.      ]])"
      ]
     },
     "execution_count": 43,
     "metadata": {},
     "output_type": "execute_result"
    }
   ],
   "source": [
    "np.corrcoef(np.argsort(w), np.argsort(u))"
   ]
  }
 ],
 "metadata": {
  "kernelspec": {
   "display_name": "Python 3",
   "language": "python",
   "name": "python3"
  },
  "language_info": {
   "codemirror_mode": {
    "name": "ipython",
    "version": 3
   },
   "file_extension": ".py",
   "mimetype": "text/x-python",
   "name": "python",
   "nbconvert_exporter": "python",
   "pygments_lexer": "ipython3",
   "version": "3.8.8"
  }
 },
 "nbformat": 4,
 "nbformat_minor": 5
}
